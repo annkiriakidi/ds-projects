{
  "nbformat": 4,
  "nbformat_minor": 0,
  "metadata": {
    "colab": {
      "provenance": []
    },
    "kernelspec": {
      "name": "python3",
      "display_name": "Python 3"
    },
    "language_info": {
      "name": "python"
    }
  },
  "cells": [
    {
      "cell_type": "markdown",
      "source": [
        "В цьому домашньому завданні ми знову працюємо з даними з нашого змагання [\"Bank Customer Churn Prediction (DLU Course)\"](https://www.kaggle.com/t/7c080c5d8ec64364a93cf4e8f880b6a0).\n",
        "\n",
        "Тут ми побудуємо рішення задачі класифікації з використанням kNearestNeighboors, знайдемо оптимальні гіперпараметри для цього методу і зробимо базові ансамблі. Це дасть змогу порівняти перформанс моделі з попередніми вивченими методами."
      ],
      "metadata": {
        "id": "fDefDHQt8LXC"
      }
    },
    {
      "cell_type": "markdown",
      "source": [
        "0. Зчитайте дані `train.csv` та зробіть препроцесинг використовуючи написаний Вами скрипт `process_bank_churn.py` так, аби в результаті отримати дані в розбитті X_train, train_targets, X_val, val_targets для експериментів.\n",
        "\n",
        "  Якщо Вам не вдалось реалізувати в завданні `2.3. Дерева прийняття рішень` скрипт `process_bank_churn.py` - можна скористатись готовим скриптом з запропонованого рішення того завдання."
      ],
      "metadata": {
        "id": "LhivzW9W8-Dz"
      }
    },
    {
      "cell_type": "code",
      "source": [
        "%reload_ext autoreload\n",
        "%autoreload 2\n",
        "\n",
        "from process_bank_churn import preprocess_data, preprocess_new_data"
      ],
      "metadata": {
        "id": "CVhx58rrX3F_"
      },
      "execution_count": 21,
      "outputs": []
    },
    {
      "cell_type": "code",
      "source": [
        "import pandas as pd\n",
        "import numpy as np\n",
        "import matplotlib.pyplot as plt\n",
        "import seaborn as sns\n",
        "from sklearn.neighbors import KNeighborsClassifier\n",
        "from sklearn.metrics import roc_auc_score\n",
        "from sklearn.model_selection import GridSearchCV, RandomizedSearchCV\n",
        "\n",
        "import time\n",
        "from sklearn.tree import DecisionTreeClassifier"
      ],
      "metadata": {
        "id": "KhU7G6mqX8dC"
      },
      "execution_count": 14,
      "outputs": []
    },
    {
      "cell_type": "code",
      "source": [
        "train_df = pd.read_csv(\"train.csv\")\n",
        "\n",
        "X_train, train_targets, X_val, val_targets, input_cols, scaler, encoder = preprocess_data(train_df)"
      ],
      "metadata": {
        "id": "Z-mntPMAH-rv"
      },
      "execution_count": 9,
      "outputs": []
    },
    {
      "cell_type": "markdown",
      "source": [
        "1. Навчіть на цих даних класифікатор kNN з параметрами за замовченням і виміряйте точність з допомогою AUROC на тренувальному та валідаційному наборах. Зробіть заключення про отриману модель: вона хороша/погана, чи є high bias/high variance?"
      ],
      "metadata": {
        "id": "_LxWkv4o-wMe"
      }
    },
    {
      "cell_type": "code",
      "source": [
        "sns.set_style(\"darkgrid\")\n",
        "plt.rcParams[\"font.size\"] = 14\n",
        "plt.rcParams[\"figure.figsize\"] = (10, 6)\n",
        "plt.rcParams[\"figure.facecolor\"] = \"#00000000\"\n",
        "\n",
        "knn = KNeighborsClassifier()\n",
        "knn.fit(X_train, train_targets)\n",
        "\n",
        "train_preds = knn.predict_proba(X_train)[:, 1]\n",
        "val_preds = knn.predict_proba(X_val)[:, 1]\n",
        "\n",
        "train_auc = roc_auc_score(train_targets, train_preds)\n",
        "val_auc = roc_auc_score(val_targets, val_preds)\n",
        "\n",
        "print(f\"Train AUROC: {train_auc:.4f}\")\n",
        "print(f\"Validation AUROC: {val_auc:.4f}\")"
      ],
      "metadata": {
        "id": "1TH7H_Z9IAHD",
        "colab": {
          "base_uri": "https://localhost:8080/"
        },
        "outputId": "263b2a44-c2db-4bac-95e9-f5e8fadb90ec"
      },
      "execution_count": 10,
      "outputs": [
        {
          "output_type": "stream",
          "name": "stdout",
          "text": [
            "Train AUROC: 0.9585\n",
            "Validation AUROC: 0.8520\n"
          ]
        }
      ]
    },
    {
      "cell_type": "markdown",
      "source": [
        "**Висновки**\n",
        "\n",
        "train_auc непоганий. Різниця між train_auc і val_auc = 0.1. Це означає, що модель трохи перенавчилась."
      ],
      "metadata": {
        "id": "C31GH5tWgqsS"
      }
    },
    {
      "cell_type": "markdown",
      "source": [
        "2. Використовуючи `GridSearchCV` знайдіть оптимальне значення параметра `n_neighbors` для класифікатора `kNN`. Псотавте крос валідацію на 5 фолдів.\n",
        "\n",
        "  Після успішного завершення пошуку оптимального гіперпараметра\n",
        "    - виведіть найкраще значення параметра\n",
        "    - збережіть в окрему змінну `knn_best` найкращу модель, знайдену з `GridSearchCV`\n",
        "    - оцініть якість передбачень  `knn_best` на тренувальній і валідаційній вибірці з допомогою AUROC.\n",
        "    - зробіть висновок про якість моделі. Чи стала вона краще порівняно з попереднім пукнтом (2) цього завдання? Чи є вона краще за дерево прийняття рішень з попереднього ДЗ?"
      ],
      "metadata": {
        "id": "U4hm5qYs_f7x"
      }
    },
    {
      "cell_type": "code",
      "source": [
        "param_grid = {\"n_neighbors\": list(range(1, 21))}\n",
        "\n",
        "knn = KNeighborsClassifier()\n",
        "\n",
        "grid_search = GridSearchCV(knn, param_grid, cv=5, scoring=\"roc_auc\", n_jobs=-1)\n",
        "grid_search.fit(X_train, train_targets)\n",
        "\n",
        "best_n_neighbors = grid_search.best_params_[\"n_neighbors\"]\n",
        "knn_best = grid_search.best_estimator_\n",
        "\n",
        "print(f\"Найкраще значення n_neighbors: {best_n_neighbors}\")\n",
        "\n",
        "train_preds_best = knn_best.predict_proba(X_train)[:, 1]\n",
        "val_preds_best = knn_best.predict_proba(X_val)[:, 1]\n",
        "\n",
        "train_auc_best = roc_auc_score(train_targets, train_preds_best)\n",
        "val_auc_best = roc_auc_score(val_targets, val_preds_best)\n",
        "\n",
        "print(f\"Train AUROC (оптимальний kNN): {train_auc_best:.4f}\")\n",
        "print(f\"Validation AUROC (оптимальний kNN): {val_auc_best:.4f}\")"
      ],
      "metadata": {
        "id": "a50AtDZ9IDNx",
        "colab": {
          "base_uri": "https://localhost:8080/"
        },
        "outputId": "f84e9313-dd1f-4870-eef3-36f2046e62da"
      },
      "execution_count": 12,
      "outputs": [
        {
          "output_type": "stream",
          "name": "stdout",
          "text": [
            "Найкраще значення n_neighbors: 20\n",
            "Train AUROC (оптимальний kNN): 0.9352\n",
            "Validation AUROC (оптимальний kNN): 0.8991\n"
          ]
        }
      ]
    },
    {
      "cell_type": "markdown",
      "source": [
        "**Висновки**\n",
        "\n",
        "Новий Train AUROC більше за попередній -- модель стала трохи краще. І різниця з Validation AUROC стала набагато менше.\n",
        "\n",
        "Але дерево рішень виявилось все одно краще (AUROC у дерева був = 0.9147)"
      ],
      "metadata": {
        "id": "EIpm9Hl6haCH"
      }
    },
    {
      "cell_type": "markdown",
      "source": [
        "3. Виконайте пошук оптимальних гіперпараметрів для `DecisionTreeClassifier` з `GridSearchCV` за сіткою параметрів\n",
        "  - `max_depth` від 1 до 20 з кроком 2\n",
        "  - `max_leaf_nodes` від 2 до 10 з кроком 1\n",
        "\n",
        "  Обовʼязково при цьому ініціюйте модель з фіксацією `random_state`.\n",
        "\n",
        "  Поставте кросвалідацію на 3 фолди, `scoring='roc_auc'`, та виміряйте, скільки часу потребує пошук оптимальних гіперпараметрів.\n",
        "\n",
        "  Після успішного завершення пошуку оптимальних гіперпараметрів\n",
        "    - виведіть найкращі значення параметра\n",
        "    - збережіть в окрему змінну `dt_best` найкращу модель, знайдену з `GridSearchCV`\n",
        "    - оцініть якість передбачень  `dt_best` на тренувальній і валідаційній вибірці з допомогою AUROC.\n",
        "    - зробіть висновок про якість моделі. Чи ця модель краща за ту, що ви знайшли вручну?"
      ],
      "metadata": {
        "id": "Vg77SVWrBBmU"
      }
    },
    {
      "cell_type": "code",
      "source": [
        "param_grid = {\n",
        "    \"max_depth\": np.arange(1, 21, 2),\n",
        "    \"max_leaf_nodes\": np.arange(2, 11, 1),\n",
        "}\n",
        "\n",
        "dt = DecisionTreeClassifier(random_state=42)\n",
        "\n",
        "grid_search_dt = GridSearchCV(dt, param_grid, cv=3, scoring=\"roc_auc\", n_jobs=-1)\n",
        "\n",
        "start_time = time.time()\n",
        "grid_search_dt.fit(X_train, train_targets)\n",
        "end_time = time.time()\n",
        "elapsed_time = end_time - start_time\n",
        "\n",
        "best_params_dt = grid_search_dt.best_params_\n",
        "dt_best = grid_search_dt.best_estimator_\n",
        "\n",
        "print(f\"⏳ Time GridSearchCV: {elapsed_time:.2f} seconds\")\n",
        "print(best_params_dt)\n",
        "\n",
        "train_preds_dt = dt_best.predict_proba(X_train)[:, 1]\n",
        "val_preds_dt = dt_best.predict_proba(X_val)[:, 1]\n",
        "\n",
        "train_auc_dt = roc_auc_score(train_targets, train_preds_dt)\n",
        "val_auc_dt = roc_auc_score(val_targets, val_preds_dt)\n",
        "\n",
        "print(f\"Train AUROC (оптимальне Decision Tree): {train_auc_dt:.4f}\")\n",
        "print(f\"Validation AUROC (оптимальне Decision Tree): {val_auc_dt:.4f}\")"
      ],
      "metadata": {
        "id": "RVg6jX-7IEwl",
        "colab": {
          "base_uri": "https://localhost:8080/"
        },
        "outputId": "a3906f62-450d-4b5b-9e90-b0ff125013b8"
      },
      "execution_count": 13,
      "outputs": [
        {
          "output_type": "stream",
          "name": "stdout",
          "text": [
            "⏳ Time GridSearchCV: 11.10 seconds\n",
            "{'max_depth': 5, 'max_leaf_nodes': 10}\n",
            "Train AUROC (оптимальне Decision Tree): 0.9073\n",
            "Validation AUROC (оптимальне Decision Tree): 0.8881\n"
          ]
        }
      ]
    },
    {
      "cell_type": "markdown",
      "source": [
        "**Висновки**\n",
        "\n",
        "Попередня модель дерева все ще краща (AUROC = 0.9147) порівняно з новою (0.8881)."
      ],
      "metadata": {
        "id": "tJT213oVjy9-"
      }
    },
    {
      "cell_type": "markdown",
      "source": [
        "4. Виконайте пошук оптимальних гіперпараметрів для `DecisionTreeClassifier` з `RandomizedSearchCV` за заданою сіткою параметрів і кількість ітерацій 40.\n",
        "\n",
        "  Поставте кросвалідацію на 3 фолди, `scoring='roc_auc'`, зафіксуйте `random_seed` процедури крос валідації та виміряйте, скільки часу потребує пошук оптимальних гіперпараметрів.\n",
        "\n",
        "  Після успішного завершення пошуку оптимальних гіперпараметрів\n",
        "    - виведіть найкращі значення параметра\n",
        "    - збережіть в окрему змінну `dt_random_search_best` найкращу модель, знайдену з `RandomizedSearchCV`\n",
        "    - оцініть якість передбачень  `dt_random_search_best` на тренувальній і валідаційній вибірці з допомогою AUROC.\n",
        "    - зробіть висновок про якість моделі. Чи ця модель краща за ту, що ви знайшли з `GridSearch`?\n",
        "    - проаналізуйте параметри `dt_random_search_best` і порівняйте з параметрами `dt_best` - яку бачите відмінність? Ця вправа потрібна аби зрозуміти, як різні налаштування `DecisionTreeClassifier` впливають на якість моделі."
      ],
      "metadata": {
        "id": "nCnkGD_sEW1i"
      }
    },
    {
      "cell_type": "code",
      "source": [
        "params_dt = {\n",
        "    'criterion': ['gini', 'entropy'],\n",
        "    'splitter': ['best', 'random'],\n",
        "    'max_depth': np.arange(1, 20),\n",
        "    'max_leaf_nodes': np.arange(2, 20),\n",
        "    'min_samples_split': [2, 5, 10, 20],\n",
        "    'min_samples_leaf': [1, 2, 4, 8],\n",
        "    'max_features': [None, 'sqrt', 'log2']\n",
        "}"
      ],
      "metadata": {
        "id": "665uQ3NdIG0s"
      },
      "execution_count": 15,
      "outputs": []
    },
    {
      "cell_type": "code",
      "source": [
        "dt = DecisionTreeClassifier(random_state=42)\n",
        "\n",
        "random_search_dt = RandomizedSearchCV(\n",
        "    dt, params_dt, n_iter=40, cv=3, scoring=\"roc_auc\", random_state=42, n_jobs=-1\n",
        ")\n",
        "\n",
        "start_time = time.time()\n",
        "random_search_dt.fit(X_train, train_targets)\n",
        "end_time = time.time()\n",
        "elapsed_time = end_time - start_time\n",
        "\n",
        "best_params_random = random_search_dt.best_params_\n",
        "dt_random_search_best = random_search_dt.best_estimator_\n",
        "\n",
        "print(f\"⏳ Time RandomizedSearchCV: {elapsed_time:.2f} seconds\")\n",
        "print(best_params_random)\n",
        "\n",
        "train_preds_random = dt_random_search_best.predict_proba(X_train)[:, 1]\n",
        "val_preds_random = dt_random_search_best.predict_proba(X_val)[:, 1]\n",
        "\n",
        "train_auc_random = roc_auc_score(train_targets, train_preds_random)\n",
        "val_auc_random = roc_auc_score(val_targets, val_preds_random)\n",
        "\n",
        "print(f\"Train AUROC (Randomized Search Decision Tree): {train_auc_random:.4f}\")\n",
        "print(f\"Validation AUROC (Randomized Search Decision Tree): {val_auc_random:.4f}\")"
      ],
      "metadata": {
        "id": "MyHVD-R0IXqv",
        "colab": {
          "base_uri": "https://localhost:8080/"
        },
        "outputId": "bc800e91-4305-4213-83ce-764c4297321d"
      },
      "execution_count": 17,
      "outputs": [
        {
          "output_type": "stream",
          "name": "stdout",
          "text": [
            "⏳ Time RandomizedSearchCV: 6.53 seconds\n",
            "{'splitter': 'best', 'min_samples_split': 20, 'min_samples_leaf': 2, 'max_leaf_nodes': 14, 'max_features': None, 'max_depth': 16, 'criterion': 'entropy'}\n",
            "Train AUROC (Randomized Search Decision Tree): 0.9184\n",
            "Validation AUROC (Randomized Search Decision Tree): 0.9025\n"
          ]
        }
      ]
    },
    {
      "cell_type": "markdown",
      "source": [
        "**Висновки**\n",
        "\n",
        "Randomized Search знайшов кращу модель! AUROC покращився з 0.8881 до 0.9025.\n",
        "\n",
        "Відмінності між моделями:\n",
        "Параметри моделі з GridSearch: `{'max_depth': 5, 'max_leaf_nodes': 10}`\n",
        "Параметри моделі з RandomizedSearch: `{'splitter': 'best', 'min_samples_split': 20, 'min_samples_leaf': 2, 'max_leaf_nodes': 14, 'max_features': None, 'max_depth': 16, 'criterion': 'entropy'}`\n",
        "\n",
        "\n",
        "Randomized Search враховував більше параметрів, що дозволило знайти більш складну і точну модель. Randomized Search ще і працює швидше!\n",
        "\n",
        "Судячи із лекції та дз -- GridSearch має піти у топку 😄😂\n"
      ],
      "metadata": {
        "id": "ubhfvZoElX7O"
      }
    },
    {
      "cell_type": "markdown",
      "source": [
        "5. Якщо у Вас вийшла метрика `AUROC` в цій серії експериментів - зробіть ще один `submission` на Kaggle і додайте код для цього і скріншот скора на публічному лідерборді нижче.\n",
        "\n",
        "  Сподіваюсь на цьому етапі ви вже відчули себе справжнім дослідником 😉"
      ],
      "metadata": {
        "id": "XArADR2CG8VK"
      }
    },
    {
      "cell_type": "code",
      "source": [
        "test_df = pd.read_csv(\"test.csv\")\n",
        "\n",
        "X_test = preprocess_new_data(test_df, input_cols=input_cols, encoder=encoder, scaler=scaler, scaler_numeric=True)\n",
        "\n",
        "test_preds = dt_random_search_best.predict_proba(X_test)[:, 1]\n",
        "\n",
        "submission = pd.DataFrame({\n",
        "    \"id\": test_df[\"id\"],\n",
        "    \"Exited\": test_preds\n",
        "})\n",
        "\n",
        "submission.to_csv(\"submission.csv\", index=False)"
      ],
      "metadata": {
        "id": "vadJfLlMF_V3"
      },
      "execution_count": 22,
      "outputs": []
    },
    {
      "cell_type": "markdown",
      "source": [
        "![Знімок екрана 2025-03-03 о 22.17.22.png](data:image/png;base64,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)"
      ],
      "metadata": {
        "id": "0srr6ewJpuBz"
      }
    },
    {
      "cell_type": "code",
      "source": [],
      "metadata": {
        "id": "HJVsBPXQp5Fn"
      },
      "execution_count": null,
      "outputs": []
    }
  ]
}