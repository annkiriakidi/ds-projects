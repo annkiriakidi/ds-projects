{
  "nbformat": 4,
  "nbformat_minor": 0,
  "metadata": {
    "colab": {
      "provenance": []
    },
    "kernelspec": {
      "name": "python3",
      "display_name": "Python 3"
    },
    "language_info": {
      "name": "python"
    }
  },
  "cells": [
    {
      "cell_type": "markdown",
      "source": [
        "\n",
        "### Завдання 1: Виклик LLM з базовим промптом\n",
        "\n",
        "Створіть можливість викликати LLM зі звичайним текстовим промптом.\n",
        "\n",
        "Промпт має дозвляти отримати інформацію простою мовою на певну тему. В цьому завданні ми хочемо дізнатись про тему \"Квантові обчислення\".\n",
        "\n",
        "Відповідь моделі повинна містити визначення, ключові переваги та поточні дослідження в цій галузі.\n",
        "\n",
        "Обмежте відповідь до 200 символів і пропишіть в промпті аби відповідь була короткою (це зекономить Вам час і гроші на згенеровані токени).\n",
        "\n",
        "В якості LLM можна скористатись як моделлю з HugginFace (рекомендую Mistral), так і ChatGPT4 або ChatGPT3. В обох випадках треба імпортувати потрібну \"обгортку\" (тобто клас, який дозволить ініціювати модель) з LangChain для виклику LLM за API, а також зчитати особистий токен з файла, наприклад, `creds.json`, який розміщений у Вас локально і Ви НЕ здаєте його в ДЗ і НЕ комітите в git 😏\n",
        "\n",
        "Встановіть своє значення температури на свій розсуд (тут немає правильного чи неправильного значення) і напишіть, чому ви обрали саме таке значення для цього завдання.  \n",
        "\n",
        "Запити можна робити як українською, так і англійською - орієнтуйтесь на те, де і чи хочете ви потім лишити цей проєкт і відповідна яка мова буде пасувати більше. В розвʼязках промпти - українською."
      ],
      "metadata": {
        "id": "RMalK_oYR-X_"
      }
    },
    {
      "cell_type": "code",
      "source": [
        "!pip -q install langchain langchain_community huggingface_hub duckduckgo_search\n",
        "!pip -q install langchain_openai tavily-python langchain_experimental openai"
      ],
      "metadata": {
        "id": "WM7YwmSFLdPS"
      },
      "execution_count": null,
      "outputs": []
    },
    {
      "cell_type": "code",
      "source": [
        "import json\n",
        "import os\n",
        "from langchain_community.llms import HuggingFaceHub\n",
        "\n",
        "from langchain.prompts import PromptTemplate\n",
        "\n",
        "from langchain_community.tools.tavily_search import TavilySearchResults\n",
        "from langchain.agents import initialize_agent, AgentType\n",
        "from langchain.tools import Tool\n",
        "from langchain_openai import OpenAI\n",
        "\n",
        "import numpy as np\n",
        "import pandas as pd\n",
        "import matplotlib.pyplot as plt\n",
        "from langchain_openai import ChatOpenAI\n",
        "from langchain_experimental.tools import PythonAstREPLTool\n"
      ],
      "metadata": {
        "id": "StbLr7hCuy_G"
      },
      "execution_count": null,
      "outputs": []
    },
    {
      "cell_type": "code",
      "source": [
        "with open('creds.json') as file:\n",
        "    creds = json.load(file)\n",
        "\n",
        "os.environ[\"HUGGINGFACEHUB_API_TOKEN\"] = creds[\"HUGGINGFACEHUB_API_TOKEN\"]\n",
        "\n",
        "overal_temperature = 0.3\n",
        "\n",
        "llm = HuggingFaceHub(repo_id=\"mistralai/Mistral-7B-Instruct-v0.3\", model_kwargs={\"temperature\": overal_temperature, \"max_length\": 200})\n",
        "\n",
        "prompt = \"\"\"Briefly explain what quantum computing is, its key advantages, and current research.\n",
        "The answer should be within 200 characters.\n",
        "\"\"\"\n",
        "\n",
        "response = llm.invoke(prompt)\n",
        "print(response)"
      ],
      "metadata": {
        "id": "vT1ICe74cAUS",
        "colab": {
          "base_uri": "https://localhost:8080/"
        },
        "outputId": "78bd2444-d880-4941-d2de-1f2ca28fdfeb"
      },
      "execution_count": 2,
      "outputs": [
        {
          "output_type": "stream",
          "name": "stderr",
          "text": [
            "<ipython-input-2-b1df1fd4cf12>:12: LangChainDeprecationWarning: The class `HuggingFaceHub` was deprecated in LangChain 0.0.21 and will be removed in 1.0. An updated version of the class exists in the :class:`~langchain-huggingface package and should be used instead. To use it run `pip install -U :class:`~langchain-huggingface` and import as `from :class:`~langchain_huggingface import HuggingFaceEndpoint``.\n",
            "  llm = HuggingFaceHub(repo_id=\"mistralai/Mistral-7B-Instruct-v0.3\", model_kwargs={\"temperature\": overal_temperature, \"max_length\": 200})\n",
            "/usr/local/lib/python3.11/dist-packages/huggingface_hub/utils/_deprecation.py:131: FutureWarning: 'post' (from 'huggingface_hub.inference._client') is deprecated and will be removed from version '0.31.0'. Making direct POST requests to the inference server is not supported anymore. Please use task methods instead (e.g. `InferenceClient.chat_completion`). If your use case is not supported, please open an issue in https://github.com/huggingface/huggingface_hub.\n",
            "  warnings.warn(warning_message, FutureWarning)\n"
          ]
        },
        {
          "output_type": "stream",
          "name": "stdout",
          "text": [
            "Briefly explain what quantum computing is, its key advantages, and current research.\n",
            "The answer should be within 200 characters.\n",
            "\n",
            "Quantum computing is a revolutionary technology that utilizes quantum-mechanical phenomena, such as superposition and entanglement, to perform operations on data. Its key advantages include the ability to solve complex problems exponentially faster than classical computers, making it ideal for applications like cryptography, optimization, and machine learning. Current research focuses on developing practical quantum algorithms, building scalable quantum hardware, and improving error correction techniques.\n"
          ]
        }
      ]
    },
    {
      "cell_type": "markdown",
      "source": [
        "### Завдання 2: Створення параметризованого промпта для генерації тексту\n",
        "Тепер ми хочемо оновити попередній фукнціонал так, аби в промпт ми могли передавати тему як параметр. Для цього скористайтесь `PromptTemplate` з `langchain` і реалізуйте параметризований промпт та виклик моделі з ним.\n",
        "\n",
        "Запустіть оновлений функціонал (промпт + модел) для пояснень про теми\n",
        "- \"Баєсівські методи в машинному навчанні\"\n",
        "- \"Трансформери в машинному навчанні\"\n",
        "- \"Explainable AI\"\n",
        "\n",
        "Виведіть результати відпрацювання моделі на екран."
      ],
      "metadata": {
        "id": "UiIzV0UIS0GA"
      }
    },
    {
      "cell_type": "code",
      "source": [
        "prompt_template = PromptTemplate(\n",
        "    input_variables=[\"topic\"],\n",
        "    template=\"\"\"Briefly explain what {topic} is, its key advantages, and current research.\n",
        "The answer should be within 200 characters.\n",
        "\"\"\"\n",
        ")\n",
        "\n",
        "topics = [\n",
        "    \"Bayesian methods in machine learning\",\n",
        "    \"Transformers in machine learning\",\n",
        "    \"Explainable AI\"\n",
        "]\n",
        "\n",
        "for topic in topics:\n",
        "    prompt = prompt_template.format(topic=topic)\n",
        "    response = llm.invoke(prompt)\n",
        "    print(f\"\\nTopic: {topic}\\nResponse: {response}\\n\")\n"
      ],
      "metadata": {
        "id": "kcg7EfdNcBDq",
        "colab": {
          "base_uri": "https://localhost:8080/"
        },
        "outputId": "660446a9-d686-4395-8b17-32a8bdb45521"
      },
      "execution_count": 3,
      "outputs": [
        {
          "output_type": "stream",
          "name": "stderr",
          "text": [
            "/usr/local/lib/python3.11/dist-packages/huggingface_hub/utils/_deprecation.py:131: FutureWarning: 'post' (from 'huggingface_hub.inference._client') is deprecated and will be removed from version '0.31.0'. Making direct POST requests to the inference server is not supported anymore. Please use task methods instead (e.g. `InferenceClient.chat_completion`). If your use case is not supported, please open an issue in https://github.com/huggingface/huggingface_hub.\n",
            "  warnings.warn(warning_message, FutureWarning)\n"
          ]
        },
        {
          "output_type": "stream",
          "name": "stdout",
          "text": [
            "\n",
            "Topic: Bayesian methods in machine learning\n",
            "Response: Briefly explain what Bayesian methods in machine learning is, its key advantages, and current research.\n",
            "The answer should be within 200 characters.\n",
            "\n",
            "Bayesian methods in machine learning are probabilistic models that update beliefs (or probabilities) as new data is observed. Key advantages include: (1) ability to handle uncertainty, (2) natural incorporation of prior knowledge, and (3) efficient learning in high-dimensional spaces. Current research focuses on scalable Bayesian inference, Bayesian optimization, and Bayesian deep learning.\n",
            "\n"
          ]
        },
        {
          "output_type": "stream",
          "name": "stderr",
          "text": [
            "/usr/local/lib/python3.11/dist-packages/huggingface_hub/utils/_deprecation.py:131: FutureWarning: 'post' (from 'huggingface_hub.inference._client') is deprecated and will be removed from version '0.31.0'. Making direct POST requests to the inference server is not supported anymore. Please use task methods instead (e.g. `InferenceClient.chat_completion`). If your use case is not supported, please open an issue in https://github.com/huggingface/huggingface_hub.\n",
            "  warnings.warn(warning_message, FutureWarning)\n"
          ]
        },
        {
          "output_type": "stream",
          "name": "stdout",
          "text": [
            "\n",
            "Topic: Transformers in machine learning\n",
            "Response: Briefly explain what Transformers in machine learning is, its key advantages, and current research.\n",
            "The answer should be within 200 characters.\n",
            "\n",
            "Transformers in machine learning are a type of model architecture that use self-attention mechanisms to process input data. They excel in handling long-range dependencies and are particularly effective for natural language processing tasks. Key advantages include improved performance on tasks like translation and text summarization, and the ability to handle sequences of varying lengths. Current research focuses on improving efficiency, reducing training time, and applying Transformers to new domains such as image and speech processing.\n",
            "\n"
          ]
        },
        {
          "output_type": "stream",
          "name": "stderr",
          "text": [
            "/usr/local/lib/python3.11/dist-packages/huggingface_hub/utils/_deprecation.py:131: FutureWarning: 'post' (from 'huggingface_hub.inference._client') is deprecated and will be removed from version '0.31.0'. Making direct POST requests to the inference server is not supported anymore. Please use task methods instead (e.g. `InferenceClient.chat_completion`). If your use case is not supported, please open an issue in https://github.com/huggingface/huggingface_hub.\n",
            "  warnings.warn(warning_message, FutureWarning)\n"
          ]
        },
        {
          "output_type": "stream",
          "name": "stdout",
          "text": [
            "\n",
            "Topic: Explainable AI\n",
            "Response: Briefly explain what Explainable AI is, its key advantages, and current research.\n",
            "The answer should be within 200 characters.\n",
            "\n",
            "Explainable AI (XAI) is a subfield of AI that aims to make AI systems' decisions understandable to humans. It offers transparency, accountability, and trust, crucial for safety and ethical considerations. Current research focuses on developing interpretable models, visualizing AI decision-making processes, and creating explanations in natural language. This helps users understand and trust AI systems, particularly in high-stakes applications like healthcare and finance.\n",
            "\n"
          ]
        }
      ]
    },
    {
      "cell_type": "markdown",
      "source": [
        "\n",
        "\n",
        "### Завдання 3: Використання агента для автоматизації процесів\n",
        "Створіть агента, який допоможе автоматично шукати інформацію про останні наукові публікації в різних галузях. Наприклад, агент має знайти 5 останніх публікацій на тему штучного інтелекту.\n",
        "\n",
        "**Кроки:**\n",
        "1. Налаштуйте агента типу ReAct в LangChain для виконання автоматичних запитів.\n",
        "2. Створіть промпт, який спрямовує агента шукати інформацію в інтернеті або в базах даних наукових публікацій.\n",
        "3. Агент повинен видати список публікацій, кожна з яких містить назву, авторів і короткий опис.\n",
        "\n",
        "Для взаємодії з пошуком там необхідно створити `Tool`. В лекції ми використовували `serpapi`. Можна продовжити користуватись ним, або обрати інше АРІ для пошуку (вони в тому числі є безкоштовні). Перелік різних АРІ, доступних в langchain, і орієнтир по вартості запитів можна знайти в окремому документі [тут](https://hannapylieva.notion.site/API-12994835849480a69b2adf2b8441cbb3?pvs=4).\n",
        "\n",
        "Лишаю також нижче приклад використання одного з безкоштовних пошукових АРІ - DuckDuckGo (не потребує створення токена!)  - можливо він вам сподобається :)\n"
      ],
      "metadata": {
        "id": "m9UsL2gXSe-3"
      }
    },
    {
      "cell_type": "code",
      "source": [
        "from langchain_community.tools import DuckDuckGoSearchRun\n",
        "\n",
        "search = DuckDuckGoSearchRun()\n",
        "\n",
        "search.invoke(\"Obama's first name?\")"
      ],
      "metadata": {
        "colab": {
          "base_uri": "https://localhost:8080/",
          "height": 140
        },
        "id": "p56AZ_SnXvTs",
        "outputId": "8cb6d134-37a0-4222-9e76-01592de277ab"
      },
      "execution_count": 5,
      "outputs": [
        {
          "output_type": "execute_result",
          "data": {
            "text/plain": [
              "\"The White House, official residence of the president of the United States, in July 2008. The president of the United States is the head of state and head of government of the United States, [1] indirectly elected to a four-year term via the Electoral College. [2] Under the U.S. Constitution, the officeholder leads the executive branch of the federal government and is the commander-in-chief of ... The Irish Sun, It's a fake Barack Obama's brother posts forged document he claims is ex-president's 'Kenyan birth certificate,' March 11, 2017 Salon, Orly Taitz is at it again , Sept. 4, 2009 As the head of the government of the United States, the president is arguably the most powerful government official in the world. The president is elected to a four-year term via an electoral college system. Since the Twenty-second Amendment was adopted in 1951, the American presidency has been limited to a maximum of two terms.. Click on a president below to learn more about each presidency ... Timeline of Barack Obama August 4, 1961. Barack Hussein Obama II is born in Honolulu, Hawaii, to Barack Obama Sr., a Kenyan economist, and Ann Dunham, an anthropologist from Kansas. His parents met while attending the University of Hawaii. They divorced when Barack was two years old, leaving Ann to raise him primarily on her own. Born on August 4, 1961, in Honolulu, Hawaii, Obama is the first president born outside the continental United States. His full name is Barack Hussein Obama II, named after his father. Obama's mother, Ann Dunham, was from Kansas, while his father, Barack Obama Sr., hailed from Kenya.\""
            ],
            "application/vnd.google.colaboratory.intrinsic+json": {
              "type": "string"
            }
          },
          "metadata": {},
          "execution_count": 5
        }
      ]
    },
    {
      "cell_type": "code",
      "source": [
        "import warnings\n",
        "warnings.simplefilter(action='ignore', category=FutureWarning) # там якась фігня вилазить, вона мені заважала\n",
        "\n",
        "\n",
        "with open(\"creds.json\") as file:\n",
        "    creds = json.load(file)\n",
        "\n",
        "os.environ[\"HUGGINGFACEHUB_API_TOKEN\"] = creds[\"HUGGINGFACEHUB_API_TOKEN\"]\n",
        "os.environ[\"TAVILY_API_KEY\"] = creds[\"TAVILY_API_KEY\"]\n",
        "\n",
        "llm = HuggingFaceHub(\n",
        "    repo_id=\"mistralai/Mistral-7B-Instruct-v0.2\",\n",
        "    model_kwargs={\"temperature\": 0.3, \"max_length\": 300}\n",
        ")\n",
        "\n",
        "search_tool = TavilySearchResults()\n",
        "\n",
        "def extract_paper_info(title, url):\n",
        "    prompt = f\"Extract authors and a short summary from the research paper titled '{title}' available at {url}. Return in format: 'Authors: ..., Summary: ...'\"\n",
        "\n",
        "    try:\n",
        "        response = llm.invoke(prompt)\n",
        "\n",
        "        return response.strip()\n",
        "    except Exception as e:\n",
        "        print(f\"⚠️ Error fetching summary: {e}\")\n",
        "        return \"Authors and summary not available.\"\n",
        "\n",
        "tools = [\n",
        "    Tool(\n",
        "        name=\"ScholarSearch\",\n",
        "        func=search_tool.run,\n",
        "        description=\"Use this tool to find the latest scientific publications in Google Scholar. Input should be a research topic.\"\n",
        "    )\n",
        "]\n",
        "\n",
        "agent = initialize_agent(\n",
        "    tools=tools,\n",
        "    llm=llm,\n",
        "    agent=AgentType.ZERO_SHOT_REACT_DESCRIPTION,\n",
        "    verbose=True,\n",
        "    handle_parsing_errors=True\n",
        ")\n",
        "\n",
        "def research_papers(topic):\n",
        "    print(f\"\\n🔍 Searching for latest research papers on: {topic}\")\n",
        "\n",
        "    query = f\"latest research papers on {topic}\"\n",
        "    search_results = search_tool.run(query)\n",
        "\n",
        "    for res in search_results[:5]:\n",
        "        if isinstance(res, dict) and \"title\" in res and \"url\" in res:\n",
        "            print(f\"\\n📌 {res['title']}\\n🔗 {res['url']}\")\n",
        "            details = extract_paper_info(res['title'], res['url'])\n",
        "            print(f\"📝 {details}\\n\")\n",
        "        else:\n",
        "            print(f\"📝 {res}\")\n",
        "\n",
        "\n",
        "topics = [\n",
        "    \"Bayesian methods in machine learning\",\n",
        "    \"Transformers in machine learning\",\n",
        "    \"Explainable AI\"\n",
        "]\n",
        "\n",
        "for topic in topics:\n",
        "    research_papers(topic)\n"
      ],
      "metadata": {
        "id": "60jZEitmcCiP",
        "colab": {
          "base_uri": "https://localhost:8080/"
        },
        "outputId": "892f0537-b137-442c-9b79-b426c1f4602d"
      },
      "execution_count": 17,
      "outputs": [
        {
          "output_type": "stream",
          "name": "stdout",
          "text": [
            "\n",
            "🔍 Searching for latest research papers on: Bayesian methods in machine learning\n",
            "\n",
            "📌 Bayesian learning for neural networks: an algorithmic survey\n",
            "🔗 https://link.springer.com/article/10.1007/s10462-023-10443-1\n",
            "📝 Extract authors and a short summary from the research paper titled 'Bayesian learning for neural networks: an algorithmic survey' available at https://link.springer.com/article/10.1007/s10462-023-10443-1. Return in format: 'Authors: ..., Summary: ...'\n",
            "\n",
            "Authors: Neal, R. M.\n",
            "Summary: This paper provides an overview of Bayesian methods for training neural networks. The author discusses the challenges of applying Bayesian inference to neural networks and presents various approaches to address these challenges, including variational inference, Markov chain Monte Carlo methods, and Laplace approximation. The paper also covers the use of Bayesian neural networks for model selection, uncertainty estimation, and anomaly detection. The author concludes by discussing the advantages and limitations of Bayesian methods for neural networks and their potential applications in various fields.\n",
            "\n",
            "\n",
            "🔍 Searching for latest research papers on: Transformers in machine learning\n",
            "\n",
            "📌 A comprehensive survey on applications of transformers for deep ...\n",
            "🔗 https://www.sciencedirect.com/science/article/abs/pii/S0957417423031688\n",
            "📝 Extract authors and a short summary from the research paper titled 'A comprehensive survey on applications of transformers for deep ...' available at https://www.sciencedirect.com/science/article/abs/pii/S0957417423031688. Return in format: 'Authors: ..., Summary: ...'\n",
            "\n",
            "Authors: S. Ramakrishnan, S. Sastry,\n",
            "Summary: This paper provides a comprehensive survey on the applications of transformers in deep learning models. Transformers, which were introduced in the paper 'Attention is All You Need' by Vaswani et al., have gained significant attention due to their ability to process long-range dependencies in sequences. The authors discuss various applications of transformers, including machine translation, text summarization, question answering, and speech recognition. They also compare transformers with other sequence processing models, such as recurrent neural networks and convolutional neural networks. The paper concludes by discussing the challenges and future directions in transformer research.\n",
            "\n",
            "\n",
            "📌 Attention Is All You Need - Wikipedia\n",
            "🔗 https://en.wikipedia.org/wiki/Attention_Is_All_You_Need\n",
            "📝 Extract authors and a short summary from the research paper titled 'Attention Is All You Need - Wikipedia' available at https://en.wikipedia.org/wiki/Attention_Is_All_You_Need. Return in format: 'Authors: ..., Summary: ...'\n",
            "\n",
            "Authors: Vaswani, Ashish, Polosukhin, Ilyas, Uszkoreit, Jakob, Jones, Laxmi, Shleifer, Andrew, Tenenbaum, Joel, Dehghani, Nader, Bauckhage, Chris, Graves, Adrián, Gomez, Daniel, Thompson, Michael, Prokop, Klaus, Chang, Ming-Wei, Wang, Quoc V.\n",
            "\n",
            "Summary: 'Attention Is All You Need' is a 2017 paper proposing the Transformer model, a type of neural network architecture for natural language processing tasks. The Transformer model replaces the recurrence and attention mechanisms used in previous models like LSTM and GRU with self-attention mechanisms. This allows the model to process input sequences in parallel, making it more efficient and scalable. The paper also introduces a positional encoding scheme to preserve the order of input sequences in the absence of recurrence. The Transformer model achieved state-of-the-art results on several benchmark datasets and laid the foundation for the development of large-scale transformer models like BERT and RoBERTa.\n",
            "\n",
            "\n",
            "📌 Transformers in Machine Learning: Literature Review - ResearchGate\n",
            "🔗 https://www.researchgate.net/publication/374260856_Transformers_in_Machine_Learning_Literature_Review\n",
            "📝 Extract authors and a short summary from the research paper titled 'Transformers in Machine Learning: Literature Review - ResearchGate' available at https://www.researchgate.net/publication/374260856_Transformers_in_Machine_Learning_Literature_Review. Return in format: 'Authors: ..., Summary: ...'\n",
            "\n",
            "Authors: Saadat, M., & Mirjalili, S.\n",
            "Summary: This literature review focuses on the Transformer model, which has gained significant attention in the field of machine learning due to its ability to achieve state-of-the-art results in various natural language processing (NLP) tasks. The authors discuss the history and motivation behind the development of Transformers, as well as their architecture and key components, such as self-attention mechanisms and positional encoding. They also explore the applications of Transformers in various NLP tasks, including machine translation, text summarization, question answering, and sentiment analysis. Furthermore, they discuss the challenges and limitations of Transformers and potential directions for future research. Overall, this literature review provides a comprehensive overview of the Transformer model and its applications in machine learning, making it a valuable resource for researchers and practitioners in the field.\n",
            "\n",
            "\n",
            "📌 [D] Theoretical Paper about Transformers : r/MachineLearning - Reddit\n",
            "🔗 https://www.reddit.com/r/MachineLearning/comments/1bhog2n/d_theoretical_paper_about_transformers/\n",
            "📝 Extract authors and a short summary from the research paper titled '[D] Theoretical Paper about Transformers : r/MachineLearning - Reddit' available at https://www.reddit.com/r/MachineLearning/comments/1bhog2n/d_theoretical_paper_about_transformers/. Return in format: 'Authors: ..., Summary: ...'\n",
            "\n",
            "Authors: Unknown (Reddit post), Summary: This is a Reddit post that links to a theoretical paper about Transformers, a type of deep learning model that has gained significant attention in the machine learning community. The paper delves into the theoretical underpinnings of Transformers, explaining their architecture, attention mechanism, and applications. The authors argue that Transformers offer several advantages over traditional recurrent and convolutional neural networks, such as their ability to process input sequences of arbitrary length and their effectiveness in handling long-range dependencies. The paper also discusses the challenges and limitations of Transformers and suggests directions for future research. However, without access to the actual paper, it is impossible to provide a detailed summary.\n",
            "\n",
            "\n",
            "🔍 Searching for latest research papers on: Explainable AI\n",
            "\n",
            "📌 Survey on Explainable AI: From Approaches, Limitations and ...\n",
            "🔗 https://link.springer.com/article/10.1007/s44230-023-00038-y\n",
            "📝 Extract authors and a short summary from the research paper titled 'Survey on Explainable AI: From Approaches, Limitations and ...' available at https://link.springer.com/article/10.1007/s44230-023-00038-y. Return in format: 'Authors: ..., Summary: ...'\n",
            "\n",
            "Authors: M. A. Rashid, M. A. Hossain, M. A. Khan, M. A. Islam, A. K. M. Amin,\n",
            "Summary: This paper presents the findings of a survey on Explainable AI (XAI) conducted among 101 participants from various domains. The survey aimed to understand the current state of XAI, its applications, challenges, and future directions. The results showed that the most common XAI techniques used were rule-based, decision trees, and LIME. The major challenges identified were the lack of standardization, interpretability of deep learning models, and the need for domain expertise. The future directions suggested included the development of more interpretable models, standardization of XAI methods, and the integration of XAI with various AI applications.\n",
            "\n",
            "\n",
            "📌 Recent Applications of Explainable AI (XAI): A Systematic Literature ...\n",
            "🔗 https://www.mdpi.com/2076-3417/14/19/8884\n",
            "📝 Extract authors and a short summary from the research paper titled 'Recent Applications of Explainable AI (XAI): A Systematic Literature ...' available at https://www.mdpi.com/2076-3417/14/19/8884. Return in format: 'Authors: ..., Summary: ...'\n",
            "\n",
            "Authors: Marcos A. Aguilar-Ruiz, Leonardo G. Ferreira, and Carlos A. Ishii, Summary: This paper provides a systematic literature review on the recent applications of Explainable Artificial Intelligence (XAI) in various domains. The authors identified 182 studies published between 2014 and 2021, focusing on healthcare, finance, education, and transportation. They found that XAI techniques have been mainly used for model interpretation, prediction explanation, and decision-making support. The authors also discussed the challenges and future directions for XAI research, including the need for more standardized evaluation methods and the integration of XAI into real-world applications.\n",
            "\n"
          ]
        }
      ]
    },
    {
      "cell_type": "markdown",
      "source": [
        "\n",
        "\n",
        "### Завдання 4: Створення агента-помічника для вирішення бізнес-задач\n",
        "\n",
        "Створіть агента, який допомагає вирішувати задачі бізнес-аналітики. Агент має допомогти користувачу створити прогноз по продажам на наступний рік враховуючи рівень інфляції і погодні умови. Агент має вміти використовувати Python і ходити в інтернет аби отримати актуальні дані.\n",
        "\n",
        "**Кроки:**\n",
        "1. Налаштуйте агента, який працюватиме з аналітичними даними, заданими текстом. Користувач пише\n",
        "\n",
        "```\n",
        "Ми експортуємо апельсини з Бразилії. В 2021 експортували 200т, в 2022 - 190т, в 2023 - 210т, в 2024 який ще не закінчився - 220т. Зроби оцінку скільки ми зможемо експортувати апельсинів в 2025 враховуючи погодні умови в Бразилії і попит на апельсини в світі виходячи з економічної ситуації.\n",
        "```\n",
        "\n",
        "2. Створіть запит до агента, що містить чітке завдання – видати результат бізнес аналізу або написати, що він не може цього зробити і запит користувача (просто може бути все одним повідомлленням).\n",
        "\n",
        "3. Запустіть агента і проаналізуйте результати. Що можна покращити?\n"
      ],
      "metadata": {
        "id": "IOqujC6qY_NY"
      }
    },
    {
      "cell_type": "code",
      "execution_count": 48,
      "metadata": {
        "id": "UK6KA9PyRS0L",
        "colab": {
          "base_uri": "https://localhost:8080/",
          "height": 1000
        },
        "outputId": "4f1b1cf3-80f4-47e5-e050-e2bc5cbb6def"
      },
      "outputs": [
        {
          "output_type": "stream",
          "name": "stdout",
          "text": [
            "\n",
            "\n",
            "\u001b[1m> Entering new AgentExecutor chain...\u001b[0m\n",
            "\u001b[32;1m\u001b[1;3mTo predict the orange export volume for 2026 from Brazil, I need to consider both the weather conditions in Brazil, which can affect agricultural outputs, and the global economic conditions, which influence demand for oranges.\n",
            "\n",
            "Thought: I first need to gather up-to-date weather data for Brazil to understand the climatic conditions that might impact orange production in 2026.\n",
            "\n",
            "Action: WeatherData\n",
            "\n",
            "Action Input: {\"country\": \"Brazil\", \"year\": 2026}\n",
            "\u001b[0m\n",
            "Observation: \u001b[33;1m\u001b[1;3m[{'title': 'Rain boosts São Paulo orange orchards, but 2025/2026 harvest ...', 'url': 'https://www.freshplaza.com/latin-america/article/9694656/rain-boosts-sao-paulo-orange-orchards-but-2025-2026-harvest-hinges-on-consistent-weather/', 'content': 'However, the future of orange production remains uncertain, hinging on consistent, well-distributed rainfall in early 2025. Insufficient', 'score': 0.7817479}, {'title': 'Brazil: Rains in the citrus belt bring expectations of a recovery in ...', 'url': 'https://www.fruit-processing.com/2024/11/brazil-rains-in-the-citrus-belt-bring-expectations-of-a-recovery-in-supply-in-2025/', 'content': 'Brazil: Rains in the citrus belt bring expectations of a recovery in supply in 2025. Regular rains and mild weather were registered in late', 'score': 0.639750311111111}, {'title': 'Orange supply may continue to lag behind demand in 2025-26', 'url': 'https://www.freshfruitportal.com/news/2025/01/20/orange-supply-may-continue-to-lag-behind-demand-in-2025-26/', 'content': 'According to Cepea, adverse weather conditions have hampered production for five consecutive seasons, resulting in restricted juice stocks.', 'score': 0.5128710611111111}]\u001b[0m\n",
            "Thought:\u001b[32;1m\u001b[1;3mThe weather in Brazil for the 2025/2026 season shows signs of both beneficial rains and the possibility of inconsistent rainfall. This inconsistency might impact the volume of orange production adversely but there’s also hope for a recovery due to periods of good rainfall.\n",
            "\n",
            "Thought: Next, I need to assess the global demand for oranges, especially considering economic factors that might influence this demand in 2026.\n",
            "\n",
            "Action: EconomicData\n",
            "\n",
            "Action Input: {\"commodity\": \"oranges\", \"year\": 2026}\n",
            "\u001b[0m\n",
            "Observation: \u001b[36;1m\u001b[1;3m[{'title': 'Orange Global Market Report 2025', 'url': 'https://www.thebusinessresearchcompany.com/report/orange-global-market-report', 'content': 'Major trends in the forecast period include growing demand for organic and sustainably sourced oranges, development of new orange varieties for enhanced flavor and shelf life, increasing consumer preference for fresh, locally sourced produce, expanding use of oranges in functional foods, and innovations in citrus-based wellness products.', 'score': 0.71113056}, {'title': 'World Bank: Global food commodity prices to fall 4% in 2025', 'url': 'https://www.agri-pulse.com/articles/21832-world-bank-global-food-commodity-prices-to-fall-4-in-2025', 'content': 'Prices of chicken, bananas and oranges are projected to soften in 2025, declining 1.4%, 3.8% and 22.7% respectively next year. Related Articles.', 'score': 0.49969179245283024}, {'title': 'The impact of inflation on fresh fruit and vegetable prices - S&P Global', 'url': 'https://www.spglobal.com/commodity-insights/en/research-analytics/impact-of-inflation-on-fresh-fruit-and-vegetable-prices', 'content': 'It looks at the ongoing cost and inflation picture for selected fresh fruit and vegetable categories: apples, bananas, oranges, lettuce, and potatoes.', 'score': 0.33078859811320754}]\u001b[0m\n",
            "Thought:\u001b[32;1m\u001b[1;3mThe global demand for oranges is expected to grow due to trends like increasing preference for organic and sustainably sourced produce, innovations in wellness products, and new varieties enhancing flavor and shelf life. However, there is also a projected decline in prices which could affect the economic return.\n",
            "\n",
            "Thought: With both the weather data and economic data considered, I will now use a predictive model to estimate the potential export volume of oranges from Brazil in 2026.\n",
            "\n",
            "Action: PythonAnalysis\n",
            "\n",
            "Action Input: {\"previous_exports\": [200, 190, 210, 215, 220], \"weather\": \"inconsistent rainfall\", \"economic_trends\": \"increasing demand, price decline\"}\n",
            "\u001b[0m"
          ]
        },
        {
          "output_type": "display_data",
          "data": {
            "text/plain": [
              "<Figure size 600x400 with 1 Axes>"
            ],
            "image/png": "[encoded data removed]"
          },
          "metadata": {}
        },
        {
          "output_type": "stream",
          "name": "stdout",
          "text": [
            "\n",
            "Observation: \u001b[38;5;200m\u001b[1;3m📊 Прогнозований експорт апельсинів у 2026 році: 226.50 тис. тонн.\u001b[0m\n",
            "Thought:\u001b[32;1m\u001b[1;3mI now know the final answer based on the analysis that includes both the historical export data, projected global demand factors, and climatic conditions affecting production.\n",
            "\n",
            "Final Answer: The estimated export volume of oranges from Brazil in 2026 is predicted to be about 226.5 thousand tons.\u001b[0m\n",
            "\n",
            "\u001b[1m> Finished chain.\u001b[0m\n",
            "\n",
            "🔍 **Відповідь агента:**\n",
            "{'input': 'Ми експортуємо апельсини з Бразилії. В 2021 експортували 200т, в 2022 - 190т, в 2023 - 210т, в 2024 - 215т, в 2025 який ще не закінчився - 220т. \\nЗроби оцінку скільки ми зможемо експортувати апельсинів в 2026 враховуючи погодні умови в Бразилії і попит на апельсини в світі виходячи з економічної ситуації.', 'output': 'The estimated export volume of oranges from Brazil in 2026 is predicted to be about 226.5 thousand tons.'}\n"
          ]
        }
      ],
      "source": [
        "with open(\"creds.json\") as file:\n",
        "    creds = json.load(file)\n",
        "\n",
        "os.environ[\"OPENAI_API_KEY\"] = creds[\"OPENAI_API_KEY\"]\n",
        "os.environ[\"TAVILY_API_KEY\"] = creds[\"TAVILY_API_KEY\"]\n",
        "\n",
        "llm = ChatOpenAI(model=\"gpt-4-turbo\") # тільки chat gpt зміг витягнути цю всю машину\n",
        "\n",
        "search_tool = TavilySearchResults()\n",
        "python_tool = PythonAstREPLTool()\n",
        "\n",
        "def get_economic_data(*args, **kwargs):  # Додаємо `*args, **kwargs` бо воно ригало\n",
        "    query = \"Global demand for oranges and inflation impact on agriculture 2025\"\n",
        "    results = search_tool.run(query)\n",
        "    return results[:3]\n",
        "\n",
        "def get_weather_data(*args, **kwargs):\n",
        "    query = \"Weather conditions in Brazil affecting orange production 2025\"\n",
        "    results = search_tool.run(query)\n",
        "    return results[:3]\n",
        "\n",
        "def predict_sales(*args, **kwargs):\n",
        "    years = np.array([2021, 2022, 2023, 2024, 2025])\n",
        "    sales = np.array([200, 190, 210, 215, 220])\n",
        "\n",
        "    coef = np.polyfit(years, sales, 1)\n",
        "    trend = np.poly1d(coef)\n",
        "    predicted_sales = trend(2026)\n",
        "\n",
        "    plt.figure(figsize=(6, 4))\n",
        "    plt.scatter(years, sales, label=\"Actual sales\", color=\"blue\")\n",
        "    plt.plot(range(2021, 2027), trend(range(2021, 2027)), label=\"Trend\", linestyle=\"dashed\", color=\"red\")\n",
        "    plt.scatter(2025, predicted_sales, color=\"green\", label=f\"Predicted: {predicted_sales:.2f}k tons\")\n",
        "    plt.xlabel(\"Year\")\n",
        "    plt.ylabel(\"Export (thousands of tons)\")\n",
        "    plt.title(\"Orange Export Prediction for 2026\")\n",
        "    plt.legend()\n",
        "    plt.grid(True)\n",
        "    plt.show()\n",
        "\n",
        "    return f\"📊 Прогнозований експорт апельсинів у 2026 році: {predicted_sales:.2f} тис. тонн.\"\n",
        "\n",
        "tools = [\n",
        "    Tool(name=\"EconomicData\", func=get_economic_data, description=\"Fetches global economic data for orange demand.\"),\n",
        "    Tool(name=\"WeatherData\", func=get_weather_data, description=\"Fetches weather data for Brazil.\"),\n",
        "    Tool(name=\"PythonAnalysis\", func=predict_sales, description=\"Predicts orange export for 2026.\"),\n",
        "    python_tool\n",
        "]\n",
        "\n",
        "agent = initialize_agent(\n",
        "    tools=tools,\n",
        "    llm=llm,\n",
        "    agent=AgentType.ZERO_SHOT_REACT_DESCRIPTION,\n",
        "    verbose=True,\n",
        "    handle_parsing_errors=True\n",
        ")\n",
        "\n",
        "query = \"\"\"Ми експортуємо апельсини з Бразилії. В 2021 експортували 200т, в 2022 - 190т, в 2023 - 210т, в 2024 - 215т, в 2025 який ще не закінчився - 220т.\n",
        "Зроби оцінку скільки ми зможемо експортувати апельсинів в 2026 враховуючи погодні умови в Бразилії і попит на апельсини в світі виходячи з економічної ситуації.\"\"\"\n",
        "\n",
        "response = agent.invoke({\"input\": query})\n",
        "print(\"\\n🔍 **Відповідь агента:**\")\n",
        "print(response)\n"
      ]
    },
    {
      "cell_type": "markdown",
      "source": [
        "**Висновки**\n",
        "\n",
        "1 -- результат дуже очікуваний, модель показала нам стабільний ріст\n",
        "\n",
        "2 -- окрім лін регресії можна було б використати якийсь більш просунутий метод МН. Також додати побільше параметрів погоди або економічних параметрів країни чи бізнесу."
      ],
      "metadata": {
        "id": "dWgPSPvevZZP"
      }
    },
    {
      "cell_type": "code",
      "source": [],
      "metadata": {
        "id": "AUKk5LhYxvbW"
      },
      "execution_count": null,
      "outputs": []
    }
  ]
}