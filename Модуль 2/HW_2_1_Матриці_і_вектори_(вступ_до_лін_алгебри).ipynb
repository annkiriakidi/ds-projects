{
  "cells": [
    {
      "cell_type": "markdown",
      "metadata": {
        "id": "efug1V4CM0lT"
      },
      "source": [
        "### Завдання 1: Створення матриць та векторів\n",
        "1. Створіть `numpy` вектор `vector` розмірністю 10 з випадковими дійсними значеннями в діапазоні від 0 до 1. Можна скористатись двома альтернативними варіантами:\n",
        "  1. Генерація випадкових чисел з модулем [`random.uniform`](https://docs.python.org/3/library/random.html).\n",
        "  2. Створення вектора з допомогою метода `numpy` [np.random.rand](https://numpy.org/doc/stable/reference/random/generated/numpy.random.rand.html)\n",
        "\n",
        "2. Створіть матрицю `matrix` типу `numpy.array` розмірності 3x3 з наступними значеннями\n",
        "\n",
        "  $$\n",
        "  matrix = \\begin{bmatrix}\n",
        "  11 & 14 & 17 \\\\\n",
        "  20 & 23 & 26 \\\\\n",
        "  29 & 32 & 35\n",
        "  \\end{bmatrix}\n",
        "  $$\n",
        "\n",
        "  будь-яким відомими Вам способом.\n",
        "\n",
        "Виведіть на екран вектор і матрицю, а також їх розміри.\n"
      ]
    },
    {
      "cell_type": "code",
      "execution_count": 1,
      "metadata": {
        "colab": {
          "base_uri": "https://localhost:8080/"
        },
        "id": "jxA_lG2_VIMe",
        "outputId": "d049e7a1-964b-4a36-eb01-5864dc4d9564"
      },
      "outputs": [
        {
          "name": "stdout",
          "output_type": "stream",
          "text": [
            "Вектор:\n",
            "[0.8306342  0.84817061 0.8367944  0.68911457 0.81176612 0.58500792\n",
            " 0.89245941 0.73805194 0.32938157 0.46933791]\n",
            "Розмір вектора: (10,)\n",
            "\n",
            "Матриця:\n",
            "[[11 20 29]\n",
            " [14 23 32]\n",
            " [17 26 35]]\n",
            "Розмір матриці: (3, 3)\n"
          ]
        }
      ],
      "source": [
        "vector = np.random.rand(10)\n",
        "\n",
        "matrix = np.array([\n",
        "    [11, 20, 29],\n",
        "    [14, 23, 32],\n",
        "    [17, 26, 35]\n",
        "])\n",
        "\n",
        "print(\"Вектор:\")\n",
        "print(vector)\n",
        "print(\"Розмір вектора:\", vector.shape)\n",
        "\n",
        "print(\"\\nМатриця:\")\n",
        "print(matrix)\n",
        "print(\"Розмір матриці:\", matrix.shape)\n"
      ]
    },
    {
      "cell_type": "markdown",
      "metadata": {
        "id": "TSJ1P4OuOVe2"
      },
      "source": [
        "\n",
        "### Завдання 2: Операції над векторами та матрицями\n",
        "Виконайте кожну з зазначених операцій над зазначеними оʼєктами і виведіть результат на екран:\n",
        "1. Додайте до кожного значення вектора `vector` число 10 і округліть кожне значення до 2 знаків після коми без використання циклів.\n",
        "2. Помножте кожен елемент матриці з першого завдання на 2 без використання циклів.\n",
        "3. Створіть новий вектор, який містить квадрат кожного `vector` без циклів.\n"
      ]
    },
    {
      "cell_type": "code",
      "execution_count": 2,
      "metadata": {
        "colab": {
          "base_uri": "https://localhost:8080/"
        },
        "id": "nAAojtyUVJXN",
        "outputId": "57697e6f-d65b-4609-964f-122775ce7553"
      },
      "outputs": [
        {
          "name": "stdout",
          "output_type": "stream",
          "text": [
            "Вектор (оригінальний):\n",
            "[0.24476149 0.4348098  0.43241822 0.62836278 0.09872279 0.45000413\n",
            " 0.22791716 0.77835699 0.67662022 0.10223582]\n",
            "Розмір вектора: (10,)\n",
            "\n",
            "Вектор + 10 (округлений):\n",
            "[10.24 10.43 10.43 10.63 10.1  10.45 10.23 10.78 10.68 10.1 ]\n",
            "\n",
            "Матриця (оригінальна):\n",
            "[[11 20 29]\n",
            " [14 23 32]\n",
            " [17 26 35]]\n",
            "Розмір матриці: (3, 3)\n",
            "\n",
            "Матриця * 2:\n",
            "[[22 40 58]\n",
            " [28 46 64]\n",
            " [34 52 70]]\n",
            "\n",
            "Вектор (квадрат кожного елемента):\n",
            "[0.05990819 0.18905956 0.18698552 0.39483979 0.00974619 0.20250372\n",
            " 0.05194623 0.60583961 0.45781493 0.01045216]\n"
          ]
        }
      ],
      "source": [
        "import numpy as np\n",
        "\n",
        "vector = np.random.rand(10)\n",
        "\n",
        "matrix = np.array([\n",
        "    [11, 20, 29],\n",
        "    [14, 23, 32],\n",
        "    [17, 26, 35]\n",
        "])\n",
        "\n",
        "vector_plus_10 = np.round(vector + 10, 2)\n",
        "matrix_times_2 = matrix * 2\n",
        "vector_squared = np.square(vector)\n",
        "\n",
        "print(\"Вектор (оригінальний):\")\n",
        "print(vector)\n",
        "print(\"Розмір вектора:\", vector.shape)\n",
        "\n",
        "print(\"\\nВектор + 10 (округлений):\")\n",
        "print(vector_plus_10)\n",
        "\n",
        "print(\"\\nМатриця (оригінальна):\")\n",
        "print(matrix)\n",
        "print(\"Розмір матриці:\", matrix.shape)\n",
        "\n",
        "print(\"\\nМатриця * 2:\")\n",
        "print(matrix_times_2)\n",
        "\n",
        "print(\"\\nВектор (квадрат кожного елемента):\")\n",
        "print(vector_squared)"
      ]
    },
    {
      "cell_type": "markdown",
      "metadata": {
        "id": "u6RvWVfhPy-k"
      },
      "source": [
        "\n",
        "### Завдання 3: Множення матриць\n",
        "1. Задані дві матриці `A` і `B`розмірностями 3x2 та 2х3. Виконайте їхнє множення, щоб отримати матрицю 2x2. Виведіть результуючу матрицю `result_matrix` на екран.\n",
        "\n",
        "2. Заданий вектор `C` розмірністю 2х1. Подумайте спочатку, яку розмірність Ви отрмаєте, коли домножите `result_matrix` на вектор `C` і який результат буде. А потім виконайте множення і виведіть результат на екран.\n",
        "\n",
        "3. Задана матриця `D` розмірністю 2х2. Подумайте спочатку, яку розмірність Ви отрмаєте, коли домножите `result_matrix` на матрицю `D` і який результат буде. А потім виконайте множення і виведіть результат на екран."
      ]
    },
    {
      "cell_type": "code",
      "execution_count": 3,
      "metadata": {
        "colab": {
          "base_uri": "https://localhost:8080/",
          "height": 178
        },
        "id": "RwXfPzlbSJ44",
        "outputId": "dcad75af-3252-4ee6-f2ef-0d1383bb0764"
      },
      "outputs": [
        {
          "data": {
            "text/plain": [
              "array([[0.18, 0.53],\n",
              "       [0.75, 0.47],\n",
              "       [0.35, 0.21]])"
            ]
          },
          "metadata": {},
          "output_type": "display_data"
        },
        {
          "data": {
            "text/plain": [
              "array([[0.17, 0.58, 0.75],\n",
              "       [0.38, 0.11, 0.15]])"
            ]
          },
          "metadata": {},
          "output_type": "display_data"
        },
        {
          "data": {
            "text/plain": [
              "array([[0],\n",
              "       [1]])"
            ]
          },
          "metadata": {},
          "output_type": "display_data"
        },
        {
          "data": {
            "text/plain": [
              "array([[0, 1],\n",
              "       [1, 0]])"
            ]
          },
          "metadata": {},
          "output_type": "display_data"
        }
      ],
      "source": [
        "A = np.array(\n",
        "    [[0.18, 0.53],\n",
        "     [0.75, 0.47],\n",
        "     [0.35, 0.21]])\n",
        "\n",
        "B = np.array(\n",
        "    [[0.17, 0.58, 0.75],\n",
        "     [0.38, 0.11, 0.15]])\n",
        "\n",
        "C = np.array([[0], [1]])\n",
        "\n",
        "D = np.array([[0,1], [1,0]])\n",
        "\n",
        "display(A, B, C, D)"
      ]
    },
    {
      "cell_type": "code",
      "execution_count": 5,
      "metadata": {
        "colab": {
          "base_uri": "https://localhost:8080/"
        },
        "id": "z7-boTbhVKkj",
        "outputId": "684010e9-fee4-481e-fd59-87dfef13ec94"
      },
      "outputs": [
        {
          "name": "stdout",
          "output_type": "stream",
          "text": [
            "\n",
            "Матриця A:\n",
            "[[0.18 0.53]\n",
            " [0.75 0.47]\n",
            " [0.35 0.21]]\n",
            "\n",
            "Матриця B:\n",
            "[[0.17 0.58 0.75]\n",
            " [0.38 0.11 0.15]]\n",
            "\n",
            "Матриця C:\n",
            "[[0]\n",
            " [1]]\n",
            "\n",
            "Матриця D:\n",
            "[[0 1]\n",
            " [1 0]]\n",
            "\n",
            "Результуюча матриця (B x A):\n",
            "[[0.7281 0.5202]\n",
            " [0.2034 0.2846]]\n",
            "\n",
            "Результат множення result_matrix на вектор C:\n",
            "[[0.5202]\n",
            " [0.2846]]\n",
            "\n",
            "Результат множення result_matrix на матрицю D:\n",
            "[[0.5202 0.7281]\n",
            " [0.2846 0.2034]]\n"
          ]
        }
      ],
      "source": [
        "\n",
        "result_matrix = np.dot(B, A)\n",
        "result_with_C = np.dot(result_matrix, C)\n",
        "result_with_D = np.dot(result_matrix, D)\n",
        "\n",
        "print(\"\\nМатриця A:\")\n",
        "print(A)\n",
        "\n",
        "print(\"\\nМатриця B:\")\n",
        "print(B)\n",
        "\n",
        "print(\"\\nМатриця C:\")\n",
        "print(C)\n",
        "\n",
        "print(\"\\nМатриця D:\")\n",
        "print(D)\n",
        "\n",
        "print(\"\\nРезультуюча матриця (B x A):\")\n",
        "print(result_matrix)\n",
        "\n",
        "print(\"\\nРезультат множення result_matrix на вектор C:\")\n",
        "print(result_with_C)\n",
        "\n",
        "print(\"\\nРезультат множення result_matrix на матрицю D:\")\n",
        "print(result_with_D)"
      ]
    },
    {
      "cell_type": "markdown",
      "metadata": {
        "id": "wohp0_cxSGpl"
      },
      "source": [
        "\n",
        "### Завдання 4: Транспонування матриць\n",
        "1. Транспонуйте `result_matrix`.\n",
        "2. Зробіть транспонування вектора `vector` і виведіть форму нової структури. Чи бачите ви зміну?\n",
        "3. Використайте операцію `numpy.expand_dims` над вектором `vector` з аргументом axis=1. Запишіть отриманий результат в змінну `column_vector` і виведіть на екран. Порівняйте з `vector`.\n",
        "4. Зробіть транспонування `column_vector`, виведіть результат на екран разом з розмірностями отриманої структури.\n",
        "\n",
        "\n"
      ]
    },
    {
      "cell_type": "code",
      "execution_count": 6,
      "metadata": {
        "colab": {
          "base_uri": "https://localhost:8080/"
        },
        "id": "4hFcq1baVLii",
        "outputId": "3bfd4cd7-7fa0-41d6-da61-5b8517f8cf14"
      },
      "outputs": [
        {
          "name": "stdout",
          "output_type": "stream",
          "text": [
            "\n",
            "Транспонована матриця result_matrix:\n",
            "[[0.7281 0.2034]\n",
            " [0.5202 0.2846]]\n",
            "\n",
            "Транспонований вектор vector:\n",
            "[0.24476149 0.4348098  0.43241822 0.62836278 0.09872279 0.45000413\n",
            " 0.22791716 0.77835699 0.67662022 0.10223582]\n",
            "Форма транспонованого вектора: (10,)\n",
            "\n",
            "Результат операції numpy.expand_dims над vector (column_vector):\n",
            "[[0.24476149]\n",
            " [0.4348098 ]\n",
            " [0.43241822]\n",
            " [0.62836278]\n",
            " [0.09872279]\n",
            " [0.45000413]\n",
            " [0.22791716]\n",
            " [0.77835699]\n",
            " [0.67662022]\n",
            " [0.10223582]]\n",
            "Форма column_vector: (10, 1)\n",
            "\n",
            "Транспонований column_vector:\n",
            "[[0.24476149 0.4348098  0.43241822 0.62836278 0.09872279 0.45000413\n",
            "  0.22791716 0.77835699 0.67662022 0.10223582]]\n",
            "Форма транспонованого column_vector: (1, 10)\n"
          ]
        }
      ],
      "source": [
        "transposed_result_matrix = result_matrix.T\n",
        "transposed_vector = vector.T\n",
        "\n",
        "column_vector = np.expand_dims(vector, axis=1)\n",
        "transposed_column_vector = column_vector.T\n",
        "\n",
        "print(\"\\nТранспонована матриця result_matrix:\")\n",
        "print(transposed_result_matrix)\n",
        "\n",
        "print(\"\\nТранспонований вектор vector:\")\n",
        "print(transposed_vector)\n",
        "print(\"Форма транспонованого вектора:\", transposed_vector.shape)\n",
        "\n",
        "print(\"\\nРезультат операції numpy.expand_dims над vector (column_vector):\")\n",
        "print(column_vector)\n",
        "print(\"Форма column_vector:\", column_vector.shape)\n",
        "\n",
        "print(\"\\nТранспонований column_vector:\")\n",
        "print(transposed_column_vector)\n",
        "print(\"Форма транспонованого column_vector:\", transposed_column_vector.shape)"
      ]
    }
  ],
  "metadata": {
    "colab": {
      "provenance": []
    },
    "kernelspec": {
      "display_name": "Python 3",
      "name": "python3"
    },
    "language_info": {
      "name": "python"
    }
  },
  "nbformat": 4,
  "nbformat_minor": 0
}
